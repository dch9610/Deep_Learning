{
 "cells": [
  {
   "cell_type": "markdown",
   "metadata": {},
   "source": [
    "# TensorFlow 2.0"
   ]
  },
  {
   "cell_type": "code",
   "execution_count": 1,
   "metadata": {},
   "outputs": [],
   "source": [
    "from glob import glob\n",
    "\n",
    "import numpy as np\n",
    "\n",
    "import tensorflow as tf\n",
    "from tensorflow.keras import layers\n",
    "\n",
    "from tensorflow.keras import datasets \n",
    "\n",
    "import matplotlib.pyplot as plt\n",
    "%matplotlib inline"
   ]
  },
  {
   "cell_type": "markdown",
   "metadata": {},
   "source": [
    "## Hyperparameter Tunning"
   ]
  },
  {
   "cell_type": "code",
   "execution_count": 2,
   "metadata": {},
   "outputs": [],
   "source": [
    "num_epochs = 10\n",
    "batch_size = 32\n",
    "\n",
    "learning_rate = 0.001\n",
    "\n",
    "dropout_rate = 0.5\n",
    "\n",
    "input_shape = (32, 32, 3)\n",
    "num_classes = 10"
   ]
  },
  {
   "cell_type": "markdown",
   "metadata": {},
   "source": [
    "## Build Model"
   ]
  },
  {
   "cell_type": "code",
   "execution_count": 3,
   "metadata": {},
   "outputs": [],
   "source": [
    "inputs = layers.Input(input_shape)\n",
    "net = layers.Conv2D(32, (3, 3), padding='SAME')(inputs)\n",
    "net = layers.Activation('relu')(net)\n",
    "net = layers.Conv2D(32, (3, 3), padding='SAME')(net)\n",
    "net = layers.Activation('relu')(net)\n",
    "net = layers.MaxPooling2D(pool_size=(2, 2))(net)\n",
    "net = layers.Dropout(dropout_rate)(net)\n",
    "\n",
    "net = layers.Conv2D(64, (3, 3), padding='SAME')(net)\n",
    "net = layers.Activation('relu')(net)\n",
    "net = layers.Conv2D(64, (3, 3), padding='SAME')(net)\n",
    "net = layers.Activation('relu')(net)\n",
    "net = layers.MaxPooling2D(pool_size=(2, 2))(net)\n",
    "net = layers.Dropout(dropout_rate)(net)\n",
    "\n",
    "net = layers.Flatten()(net)\n",
    "net = layers.Dense(512)(net)\n",
    "net = layers.Activation('relu')(net)\n",
    "net = layers.Dropout(dropout_rate)(net)\n",
    "net = layers.Dense(num_classes)(net)\n",
    "net = layers.Activation('softmax')(net)\n",
    "\n",
    "model = tf.keras.Model(inputs=inputs, outputs=net, name='Basic_CNN')"
   ]
  },
  {
   "cell_type": "code",
   "execution_count": 4,
   "metadata": {},
   "outputs": [],
   "source": [
    "# Model is the full model w/o custom layers\n",
    "model.compile(optimizer=tf.keras.optimizers.Adam(learning_rate),  # Optimization\n",
    "              loss='categorical_crossentropy',  # Loss Function \n",
    "              metrics=['accuracy'])  # Metrics / Accuracy"
   ]
  },
  {
   "cell_type": "markdown",
   "metadata": {},
   "source": [
    "# Data Preprocess"
   ]
  },
  {
   "cell_type": "code",
   "execution_count": 5,
   "metadata": {},
   "outputs": [],
   "source": [
    "train_path = glob('../../../Library/Mobile Documents/com~apple~CloudDocs/데이터사이언티스트/딥러닝:AI/Part3) 이미지 분석으로 배우는 tensorflow 2.0과 Pytorch/dataset/cifar/train/*.png')\n",
    "test_path = glob('../../../Library/Mobile Documents/com~apple~CloudDocs/데이터사이언티스트/딥러닝:AI/Part3) 이미지 분석으로 배우는 tensorflow 2.0과 Pytorch/dataset/cifar/test/*.png')"
   ]
  },
  {
   "cell_type": "code",
   "execution_count": 6,
   "metadata": {},
   "outputs": [
    {
     "output_type": "execute_result",
     "data": {
      "text/plain": [
       "'../../../Library/Mobile Documents/com~apple~CloudDocs/데이터사이언티스트/딥러닝:AI/Part3) 이미지 분석으로 배우는 tensorflow 2.0과 Pytorch/dataset/cifar/train/32270_deer.png'"
      ]
     },
     "metadata": {},
     "execution_count": 6
    }
   ],
   "source": [
    "path = train_path[0]\n",
    "path"
   ]
  },
  {
   "cell_type": "code",
   "execution_count": 49,
   "metadata": {},
   "outputs": [],
   "source": [
    "# class 값 가져오기\n",
    "def get_class_name(path):\n",
    "    fname = tf.strings.split(path,'_')[-1]\n",
    "    lbl_name = tf.strings.regex_replace(fname,'.png','')\n",
    "    return lbl_name\n"
   ]
  },
  {
   "cell_type": "code",
   "execution_count": 43,
   "metadata": {},
   "outputs": [
    {
     "output_type": "execute_result",
     "data": {
      "text/plain": [
       "<tf.Tensor: shape=(2,), dtype=string, numpy=\n",
       "array([b'../../../Library/Mobile Documents/com~apple~CloudDocs/\\xeb\\x8d\\xb0\\xec\\x9d\\xb4\\xed\\x84\\xb0\\xec\\x82\\xac\\xec\\x9d\\xb4\\xec\\x96\\xb8\\xed\\x8b\\xb0\\xec\\x8a\\xa4\\xed\\x8a\\xb8/\\xeb\\x94\\xa5\\xeb\\x9f\\xac\\xeb\\x8b\\x9d:AI/Part3) \\xec\\x9d\\xb4\\xeb\\xaf\\xb8\\xec\\xa7\\x80 \\xeb\\xb6\\x84\\xec\\x84\\x9d\\xec\\x9c\\xbc\\xeb\\xa1\\x9c \\xeb\\xb0\\xb0\\xec\\x9a\\xb0\\xeb\\x8a\\x94 tensorflow 2.0\\xea\\xb3\\xbc Pytorch/dataset/cifar/train/46506',\n",
       "       b'deer'], dtype=object)>"
      ]
     },
     "metadata": {},
     "execution_count": 43
    }
   ],
   "source": [
    "get_class_name(path)"
   ]
  },
  {
   "cell_type": "code",
   "execution_count": 30,
   "metadata": {},
   "outputs": [],
   "source": [
    "class_names = [get_class_name(path) for path in train_path]\n",
    "classes = tf.unique(class_names).y.numpy()"
   ]
  },
  {
   "cell_type": "code",
   "execution_count": 50,
   "metadata": {},
   "outputs": [
    {
     "output_type": "execute_result",
     "data": {
      "text/plain": [
       "<tf.Tensor: shape=(10,), dtype=bool, numpy=\n",
       "array([ True, False, False, False, False, False, False, False, False,\n",
       "       False])>"
      ]
     },
     "metadata": {},
     "execution_count": 50
    }
   ],
   "source": [
    "classes = tf.unique(class_names).y.numpy()\n",
    "classes == get_class_name(path)"
   ]
  },
  {
   "cell_type": "code",
   "execution_count": 45,
   "metadata": {},
   "outputs": [],
   "source": [
    "# 조건에 맞는 값을 원핫인코딩 실시\n",
    "onehot_encdoing = tf.cast(classes == get_class_name(path), tf.uint8)"
   ]
  },
  {
   "cell_type": "code",
   "execution_count": 51,
   "metadata": {},
   "outputs": [],
   "source": [
    "## onehot인코딩 함수화\n",
    "def onehot_encoding(label_name):\n",
    "    classes == get_class_name(path)\n",
    "    onehot_encdoing = tf.cast(classes == get_class_name(path), tf.uint8)\n",
    "    return onehot_encdoing"
   ]
  },
  {
   "cell_type": "code",
   "execution_count": 80,
   "metadata": {},
   "outputs": [],
   "source": [
    "# 이미지와 이미지명 값 가져오기\n",
    "def read_dataset(path):\n",
    "    # read image\n",
    "    gfile = tf.io.read_file(path)\n",
    "    image = tf.io.decode_image(gfile)\n",
    "\n",
    "    image = tf.cast(image,tf.float32)/255\n",
    "\n",
    "    # read label\n",
    "    class_name = get_class_name(path)\n",
    "    label = onehot_encoding(class_name)\n",
    "    return image, label"
   ]
  },
  {
   "cell_type": "code",
   "execution_count": 81,
   "metadata": {},
   "outputs": [
    {
     "output_type": "execute_result",
     "data": {
      "text/plain": [
       "(TensorShape([32, 32, 3]), TensorShape([10]))"
      ]
     },
     "metadata": {},
     "execution_count": 81
    }
   ],
   "source": [
    "image, label = read_dataset(path)\n",
    "image.shape, label.shape"
   ]
  },
  {
   "cell_type": "code",
   "execution_count": 82,
   "metadata": {},
   "outputs": [],
   "source": [
    "# 랜덤하게 상하좌우 움직임 반응\n",
    "def image_preprocess(image, label):\n",
    "    image = tf.image.random_flip_left_right(image)\n",
    "    image = tf.image.random_flip_up_down(image)\n",
    "    return image, label"
   ]
  },
  {
   "cell_type": "code",
   "execution_count": 83,
   "metadata": {},
   "outputs": [
    {
     "output_type": "execute_result",
     "data": {
      "text/plain": [
       "TensorShape([32, 32, 3])"
      ]
     },
     "metadata": {},
     "execution_count": 83
    }
   ],
   "source": [
    "transform, label = image_preprocess(image, label)\n",
    "transform.shape"
   ]
  },
  {
   "cell_type": "code",
   "execution_count": 84,
   "metadata": {},
   "outputs": [
    {
     "output_type": "display_data",
     "data": {
      "text/plain": "<Figure size 432x288 with 2 Axes>",
      "image/svg+xml": "<?xml version=\"1.0\" encoding=\"utf-8\" standalone=\"no\"?>\n<!DOCTYPE svg PUBLIC \"-//W3C//DTD SVG 1.1//EN\"\n  \"http://www.w3.org/Graphics/SVG/1.1/DTD/svg11.dtd\">\n<!-- Created with matplotlib (https://matplotlib.org/) -->\n<svg height=\"184.681321pt\" version=\"1.1\" viewBox=\"0 0 368.925 184.681321\" width=\"368.925pt\" xmlns=\"http://www.w3.org/2000/svg\" xmlns:xlink=\"http://www.w3.org/1999/xlink\">\n <metadata>\n  <rdf:RDF xmlns:cc=\"http://creativecommons.org/ns#\" xmlns:dc=\"http://purl.org/dc/elements/1.1/\" xmlns:rdf=\"http://www.w3.org/1999/02/22-rdf-syntax-ns#\">\n   <cc:Work>\n    <dc:type rdf:resource=\"http://purl.org/dc/dcmitype/StillImage\"/>\n    <dc:date>2021-01-30T21:45:05.525192</dc:date>\n    <dc:format>image/svg+xml</dc:format>\n    <dc:creator>\n     <cc:Agent>\n      <dc:title>Matplotlib v3.3.2, https://matplotlib.org/</dc:title>\n     </cc:Agent>\n    </dc:creator>\n   </cc:Work>\n  </rdf:RDF>\n </metadata>\n <defs>\n  <style type=\"text/css\">*{stroke-linecap:butt;stroke-linejoin:round;}</style>\n </defs>\n <g id=\"figure_1\">\n  <g id=\"patch_1\">\n   <path d=\"M -0 184.681321 \nL 368.925 184.681321 \nL 368.925 0 \nL -0 0 \nz\n\" style=\"fill:none;\"/>\n  </g>\n  <g id=\"axes_1\">\n   <g id=\"patch_2\">\n    <path d=\"M 26.925 160.803196 \nL 179.106818 160.803196 \nL 179.106818 8.621378 \nL 26.925 8.621378 \nz\n\" style=\"fill:#ffffff;\"/>\n   </g>\n   <g clip-path=\"url(#pc43b190df8)\">\n    <image height=\"153\" id=\"imagef3f5d7ff2a\" transform=\"scale(1 -1)translate(0 -153)\" width=\"153\" x=\"26.925\" xlink:href=\"data:image/png;base64,\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\" y=\"-7.803196\"/>\n   </g>\n   <g id=\"matplotlib.axis_1\">\n    <g id=\"xtick_1\">\n     <g id=\"line2d_1\">\n      <defs>\n       <path d=\"M 0 0 \nL 0 3.5 \n\" id=\"mfcc9c165d2\" style=\"stroke:#000000;stroke-width:0.8;\"/>\n      </defs>\n      <g>\n       <use style=\"stroke:#000000;stroke-width:0.8;\" x=\"29.302841\" xlink:href=\"#mfcc9c165d2\" y=\"160.803196\"/>\n      </g>\n     </g>\n     <g id=\"text_1\">\n      <!-- 0 -->\n      <g transform=\"translate(26.121591 175.401634)scale(0.1 -0.1)\">\n       <defs>\n        <path d=\"M 31.78125 66.40625 \nQ 24.171875 66.40625 20.328125 58.90625 \nQ 16.5 51.421875 16.5 36.375 \nQ 16.5 21.390625 20.328125 13.890625 \nQ 24.171875 6.390625 31.78125 6.390625 \nQ 39.453125 6.390625 43.28125 13.890625 \nQ 47.125 21.390625 47.125 36.375 \nQ 47.125 51.421875 43.28125 58.90625 \nQ 39.453125 66.40625 31.78125 66.40625 \nz\nM 31.78125 74.21875 \nQ 44.046875 74.21875 50.515625 64.515625 \nQ 56.984375 54.828125 56.984375 36.375 \nQ 56.984375 17.96875 50.515625 8.265625 \nQ 44.046875 -1.421875 31.78125 -1.421875 \nQ 19.53125 -1.421875 13.0625 8.265625 \nQ 6.59375 17.96875 6.59375 36.375 \nQ 6.59375 54.828125 13.0625 64.515625 \nQ 19.53125 74.21875 31.78125 74.21875 \nz\n\" id=\"DejaVuSans-48\"/>\n       </defs>\n       <use xlink:href=\"#DejaVuSans-48\"/>\n      </g>\n     </g>\n    </g>\n    <g id=\"xtick_2\">\n     <g id=\"line2d_2\">\n      <g>\n       <use style=\"stroke:#000000;stroke-width:0.8;\" x=\"76.859659\" xlink:href=\"#mfcc9c165d2\" y=\"160.803196\"/>\n      </g>\n     </g>\n     <g id=\"text_2\">\n      <!-- 10 -->\n      <g transform=\"translate(70.497159 175.401634)scale(0.1 -0.1)\">\n       <defs>\n        <path d=\"M 12.40625 8.296875 \nL 28.515625 8.296875 \nL 28.515625 63.921875 \nL 10.984375 60.40625 \nL 10.984375 69.390625 \nL 28.421875 72.90625 \nL 38.28125 72.90625 \nL 38.28125 8.296875 \nL 54.390625 8.296875 \nL 54.390625 0 \nL 12.40625 0 \nz\n\" id=\"DejaVuSans-49\"/>\n       </defs>\n       <use xlink:href=\"#DejaVuSans-49\"/>\n       <use x=\"63.623047\" xlink:href=\"#DejaVuSans-48\"/>\n      </g>\n     </g>\n    </g>\n    <g id=\"xtick_3\">\n     <g id=\"line2d_3\">\n      <g>\n       <use style=\"stroke:#000000;stroke-width:0.8;\" x=\"124.416477\" xlink:href=\"#mfcc9c165d2\" y=\"160.803196\"/>\n      </g>\n     </g>\n     <g id=\"text_3\">\n      <!-- 20 -->\n      <g transform=\"translate(118.053977 175.401634)scale(0.1 -0.1)\">\n       <defs>\n        <path d=\"M 19.1875 8.296875 \nL 53.609375 8.296875 \nL 53.609375 0 \nL 7.328125 0 \nL 7.328125 8.296875 \nQ 12.9375 14.109375 22.625 23.890625 \nQ 32.328125 33.6875 34.8125 36.53125 \nQ 39.546875 41.84375 41.421875 45.53125 \nQ 43.3125 49.21875 43.3125 52.78125 \nQ 43.3125 58.59375 39.234375 62.25 \nQ 35.15625 65.921875 28.609375 65.921875 \nQ 23.96875 65.921875 18.8125 64.3125 \nQ 13.671875 62.703125 7.8125 59.421875 \nL 7.8125 69.390625 \nQ 13.765625 71.78125 18.9375 73 \nQ 24.125 74.21875 28.421875 74.21875 \nQ 39.75 74.21875 46.484375 68.546875 \nQ 53.21875 62.890625 53.21875 53.421875 \nQ 53.21875 48.921875 51.53125 44.890625 \nQ 49.859375 40.875 45.40625 35.40625 \nQ 44.1875 33.984375 37.640625 27.21875 \nQ 31.109375 20.453125 19.1875 8.296875 \nz\n\" id=\"DejaVuSans-50\"/>\n       </defs>\n       <use xlink:href=\"#DejaVuSans-50\"/>\n       <use x=\"63.623047\" xlink:href=\"#DejaVuSans-48\"/>\n      </g>\n     </g>\n    </g>\n    <g id=\"xtick_4\">\n     <g id=\"line2d_4\">\n      <g>\n       <use style=\"stroke:#000000;stroke-width:0.8;\" x=\"171.973295\" xlink:href=\"#mfcc9c165d2\" y=\"160.803196\"/>\n      </g>\n     </g>\n     <g id=\"text_4\">\n      <!-- 30 -->\n      <g transform=\"translate(165.610795 175.401634)scale(0.1 -0.1)\">\n       <defs>\n        <path d=\"M 40.578125 39.3125 \nQ 47.65625 37.796875 51.625 33 \nQ 55.609375 28.21875 55.609375 21.1875 \nQ 55.609375 10.40625 48.1875 4.484375 \nQ 40.765625 -1.421875 27.09375 -1.421875 \nQ 22.515625 -1.421875 17.65625 -0.515625 \nQ 12.796875 0.390625 7.625 2.203125 \nL 7.625 11.71875 \nQ 11.71875 9.328125 16.59375 8.109375 \nQ 21.484375 6.890625 26.8125 6.890625 \nQ 36.078125 6.890625 40.9375 10.546875 \nQ 45.796875 14.203125 45.796875 21.1875 \nQ 45.796875 27.640625 41.28125 31.265625 \nQ 36.765625 34.90625 28.71875 34.90625 \nL 20.21875 34.90625 \nL 20.21875 43.015625 \nL 29.109375 43.015625 \nQ 36.375 43.015625 40.234375 45.921875 \nQ 44.09375 48.828125 44.09375 54.296875 \nQ 44.09375 59.90625 40.109375 62.90625 \nQ 36.140625 65.921875 28.71875 65.921875 \nQ 24.65625 65.921875 20.015625 65.03125 \nQ 15.375 64.15625 9.8125 62.3125 \nL 9.8125 71.09375 \nQ 15.4375 72.65625 20.34375 73.4375 \nQ 25.25 74.21875 29.59375 74.21875 \nQ 40.828125 74.21875 47.359375 69.109375 \nQ 53.90625 64.015625 53.90625 55.328125 \nQ 53.90625 49.265625 50.4375 45.09375 \nQ 46.96875 40.921875 40.578125 39.3125 \nz\n\" id=\"DejaVuSans-51\"/>\n       </defs>\n       <use xlink:href=\"#DejaVuSans-51\"/>\n       <use x=\"63.623047\" xlink:href=\"#DejaVuSans-48\"/>\n      </g>\n     </g>\n    </g>\n   </g>\n   <g id=\"matplotlib.axis_2\">\n    <g id=\"ytick_1\">\n     <g id=\"line2d_5\">\n      <defs>\n       <path d=\"M 0 0 \nL -3.5 0 \n\" id=\"mca0c479c9e\" style=\"stroke:#000000;stroke-width:0.8;\"/>\n      </defs>\n      <g>\n       <use style=\"stroke:#000000;stroke-width:0.8;\" x=\"26.925\" xlink:href=\"#mca0c479c9e\" y=\"10.999219\"/>\n      </g>\n     </g>\n     <g id=\"text_5\">\n      <!-- 0 -->\n      <g transform=\"translate(13.5625 14.798437)scale(0.1 -0.1)\">\n       <use xlink:href=\"#DejaVuSans-48\"/>\n      </g>\n     </g>\n    </g>\n    <g id=\"ytick_2\">\n     <g id=\"line2d_6\">\n      <g>\n       <use style=\"stroke:#000000;stroke-width:0.8;\" x=\"26.925\" xlink:href=\"#mca0c479c9e\" y=\"34.777628\"/>\n      </g>\n     </g>\n     <g id=\"text_6\">\n      <!-- 5 -->\n      <g transform=\"translate(13.5625 38.576847)scale(0.1 -0.1)\">\n       <defs>\n        <path d=\"M 10.796875 72.90625 \nL 49.515625 72.90625 \nL 49.515625 64.59375 \nL 19.828125 64.59375 \nL 19.828125 46.734375 \nQ 21.96875 47.46875 24.109375 47.828125 \nQ 26.265625 48.1875 28.421875 48.1875 \nQ 40.625 48.1875 47.75 41.5 \nQ 54.890625 34.8125 54.890625 23.390625 \nQ 54.890625 11.625 47.5625 5.09375 \nQ 40.234375 -1.421875 26.90625 -1.421875 \nQ 22.3125 -1.421875 17.546875 -0.640625 \nQ 12.796875 0.140625 7.71875 1.703125 \nL 7.71875 11.625 \nQ 12.109375 9.234375 16.796875 8.0625 \nQ 21.484375 6.890625 26.703125 6.890625 \nQ 35.15625 6.890625 40.078125 11.328125 \nQ 45.015625 15.765625 45.015625 23.390625 \nQ 45.015625 31 40.078125 35.4375 \nQ 35.15625 39.890625 26.703125 39.890625 \nQ 22.75 39.890625 18.8125 39.015625 \nQ 14.890625 38.140625 10.796875 36.28125 \nz\n\" id=\"DejaVuSans-53\"/>\n       </defs>\n       <use xlink:href=\"#DejaVuSans-53\"/>\n      </g>\n     </g>\n    </g>\n    <g id=\"ytick_3\">\n     <g id=\"line2d_7\">\n      <g>\n       <use style=\"stroke:#000000;stroke-width:0.8;\" x=\"26.925\" xlink:href=\"#mca0c479c9e\" y=\"58.556037\"/>\n      </g>\n     </g>\n     <g id=\"text_7\">\n      <!-- 10 -->\n      <g transform=\"translate(7.2 62.355256)scale(0.1 -0.1)\">\n       <use xlink:href=\"#DejaVuSans-49\"/>\n       <use x=\"63.623047\" xlink:href=\"#DejaVuSans-48\"/>\n      </g>\n     </g>\n    </g>\n    <g id=\"ytick_4\">\n     <g id=\"line2d_8\">\n      <g>\n       <use style=\"stroke:#000000;stroke-width:0.8;\" x=\"26.925\" xlink:href=\"#mca0c479c9e\" y=\"82.334446\"/>\n      </g>\n     </g>\n     <g id=\"text_8\">\n      <!-- 15 -->\n      <g transform=\"translate(7.2 86.133665)scale(0.1 -0.1)\">\n       <use xlink:href=\"#DejaVuSans-49\"/>\n       <use x=\"63.623047\" xlink:href=\"#DejaVuSans-53\"/>\n      </g>\n     </g>\n    </g>\n    <g id=\"ytick_5\">\n     <g id=\"line2d_9\">\n      <g>\n       <use style=\"stroke:#000000;stroke-width:0.8;\" x=\"26.925\" xlink:href=\"#mca0c479c9e\" y=\"106.112855\"/>\n      </g>\n     </g>\n     <g id=\"text_9\">\n      <!-- 20 -->\n      <g transform=\"translate(7.2 109.912074)scale(0.1 -0.1)\">\n       <use xlink:href=\"#DejaVuSans-50\"/>\n       <use x=\"63.623047\" xlink:href=\"#DejaVuSans-48\"/>\n      </g>\n     </g>\n    </g>\n    <g id=\"ytick_6\">\n     <g id=\"line2d_10\">\n      <g>\n       <use style=\"stroke:#000000;stroke-width:0.8;\" x=\"26.925\" xlink:href=\"#mca0c479c9e\" y=\"129.891264\"/>\n      </g>\n     </g>\n     <g id=\"text_10\">\n      <!-- 25 -->\n      <g transform=\"translate(7.2 133.690483)scale(0.1 -0.1)\">\n       <use xlink:href=\"#DejaVuSans-50\"/>\n       <use x=\"63.623047\" xlink:href=\"#DejaVuSans-53\"/>\n      </g>\n     </g>\n    </g>\n    <g id=\"ytick_7\">\n     <g id=\"line2d_11\">\n      <g>\n       <use style=\"stroke:#000000;stroke-width:0.8;\" x=\"26.925\" xlink:href=\"#mca0c479c9e\" y=\"153.669673\"/>\n      </g>\n     </g>\n     <g id=\"text_11\">\n      <!-- 30 -->\n      <g transform=\"translate(7.2 157.468892)scale(0.1 -0.1)\">\n       <use xlink:href=\"#DejaVuSans-51\"/>\n       <use x=\"63.623047\" xlink:href=\"#DejaVuSans-48\"/>\n      </g>\n     </g>\n    </g>\n   </g>\n   <g id=\"patch_3\">\n    <path d=\"M 26.925 160.803196 \nL 26.925 8.621378 \n\" style=\"fill:none;stroke:#000000;stroke-linecap:square;stroke-linejoin:miter;stroke-width:0.8;\"/>\n   </g>\n   <g id=\"patch_4\">\n    <path d=\"M 179.106818 160.803196 \nL 179.106818 8.621378 \n\" style=\"fill:none;stroke:#000000;stroke-linecap:square;stroke-linejoin:miter;stroke-width:0.8;\"/>\n   </g>\n   <g id=\"patch_5\">\n    <path d=\"M 26.925 160.803196 \nL 179.106818 160.803196 \n\" style=\"fill:none;stroke:#000000;stroke-linecap:square;stroke-linejoin:miter;stroke-width:0.8;\"/>\n   </g>\n   <g id=\"patch_6\">\n    <path d=\"M 26.925 8.621378 \nL 179.106818 8.621378 \n\" style=\"fill:none;stroke:#000000;stroke-linecap:square;stroke-linejoin:miter;stroke-width:0.8;\"/>\n   </g>\n  </g>\n  <g id=\"axes_2\">\n   <g id=\"patch_7\">\n    <path d=\"M 209.543182 160.803196 \nL 361.725 160.803196 \nL 361.725 8.621378 \nL 209.543182 8.621378 \nz\n\" style=\"fill:#ffffff;\"/>\n   </g>\n   <g clip-path=\"url(#pacf009e4a5)\">\n    <image height=\"153\" id=\"image9e19e65d45\" transform=\"scale(1 -1)translate(0 -153)\" width=\"153\" x=\"209.543182\" xlink:href=\"data:image/png;base64,\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\" y=\"-7.803196\"/>\n   </g>\n   <g id=\"matplotlib.axis_3\">\n    <g id=\"xtick_5\">\n     <g id=\"line2d_12\">\n      <g>\n       <use style=\"stroke:#000000;stroke-width:0.8;\" x=\"211.921023\" xlink:href=\"#mfcc9c165d2\" y=\"160.803196\"/>\n      </g>\n     </g>\n     <g id=\"text_12\">\n      <!-- 0 -->\n      <g transform=\"translate(208.739773 175.401634)scale(0.1 -0.1)\">\n       <use xlink:href=\"#DejaVuSans-48\"/>\n      </g>\n     </g>\n    </g>\n    <g id=\"xtick_6\">\n     <g id=\"line2d_13\">\n      <g>\n       <use style=\"stroke:#000000;stroke-width:0.8;\" x=\"259.477841\" xlink:href=\"#mfcc9c165d2\" y=\"160.803196\"/>\n      </g>\n     </g>\n     <g id=\"text_13\">\n      <!-- 10 -->\n      <g transform=\"translate(253.115341 175.401634)scale(0.1 -0.1)\">\n       <use xlink:href=\"#DejaVuSans-49\"/>\n       <use x=\"63.623047\" xlink:href=\"#DejaVuSans-48\"/>\n      </g>\n     </g>\n    </g>\n    <g id=\"xtick_7\">\n     <g id=\"line2d_14\">\n      <g>\n       <use style=\"stroke:#000000;stroke-width:0.8;\" x=\"307.034659\" xlink:href=\"#mfcc9c165d2\" y=\"160.803196\"/>\n      </g>\n     </g>\n     <g id=\"text_14\">\n      <!-- 20 -->\n      <g transform=\"translate(300.672159 175.401634)scale(0.1 -0.1)\">\n       <use xlink:href=\"#DejaVuSans-50\"/>\n       <use x=\"63.623047\" xlink:href=\"#DejaVuSans-48\"/>\n      </g>\n     </g>\n    </g>\n    <g id=\"xtick_8\">\n     <g id=\"line2d_15\">\n      <g>\n       <use style=\"stroke:#000000;stroke-width:0.8;\" x=\"354.591477\" xlink:href=\"#mfcc9c165d2\" y=\"160.803196\"/>\n      </g>\n     </g>\n     <g id=\"text_15\">\n      <!-- 30 -->\n      <g transform=\"translate(348.228977 175.401634)scale(0.1 -0.1)\">\n       <use xlink:href=\"#DejaVuSans-51\"/>\n       <use x=\"63.623047\" xlink:href=\"#DejaVuSans-48\"/>\n      </g>\n     </g>\n    </g>\n   </g>\n   <g id=\"matplotlib.axis_4\">\n    <g id=\"ytick_8\">\n     <g id=\"line2d_16\">\n      <g>\n       <use style=\"stroke:#000000;stroke-width:0.8;\" x=\"209.543182\" xlink:href=\"#mca0c479c9e\" y=\"10.999219\"/>\n      </g>\n     </g>\n     <g id=\"text_16\">\n      <!-- 0 -->\n      <g transform=\"translate(196.180682 14.798437)scale(0.1 -0.1)\">\n       <use xlink:href=\"#DejaVuSans-48\"/>\n      </g>\n     </g>\n    </g>\n    <g id=\"ytick_9\">\n     <g id=\"line2d_17\">\n      <g>\n       <use style=\"stroke:#000000;stroke-width:0.8;\" x=\"209.543182\" xlink:href=\"#mca0c479c9e\" y=\"34.777628\"/>\n      </g>\n     </g>\n     <g id=\"text_17\">\n      <!-- 5 -->\n      <g transform=\"translate(196.180682 38.576847)scale(0.1 -0.1)\">\n       <use xlink:href=\"#DejaVuSans-53\"/>\n      </g>\n     </g>\n    </g>\n    <g id=\"ytick_10\">\n     <g id=\"line2d_18\">\n      <g>\n       <use style=\"stroke:#000000;stroke-width:0.8;\" x=\"209.543182\" xlink:href=\"#mca0c479c9e\" y=\"58.556037\"/>\n      </g>\n     </g>\n     <g id=\"text_18\">\n      <!-- 10 -->\n      <g transform=\"translate(189.818182 62.355256)scale(0.1 -0.1)\">\n       <use xlink:href=\"#DejaVuSans-49\"/>\n       <use x=\"63.623047\" xlink:href=\"#DejaVuSans-48\"/>\n      </g>\n     </g>\n    </g>\n    <g id=\"ytick_11\">\n     <g id=\"line2d_19\">\n      <g>\n       <use style=\"stroke:#000000;stroke-width:0.8;\" x=\"209.543182\" xlink:href=\"#mca0c479c9e\" y=\"82.334446\"/>\n      </g>\n     </g>\n     <g id=\"text_19\">\n      <!-- 15 -->\n      <g transform=\"translate(189.818182 86.133665)scale(0.1 -0.1)\">\n       <use xlink:href=\"#DejaVuSans-49\"/>\n       <use x=\"63.623047\" xlink:href=\"#DejaVuSans-53\"/>\n      </g>\n     </g>\n    </g>\n    <g id=\"ytick_12\">\n     <g id=\"line2d_20\">\n      <g>\n       <use style=\"stroke:#000000;stroke-width:0.8;\" x=\"209.543182\" xlink:href=\"#mca0c479c9e\" y=\"106.112855\"/>\n      </g>\n     </g>\n     <g id=\"text_20\">\n      <!-- 20 -->\n      <g transform=\"translate(189.818182 109.912074)scale(0.1 -0.1)\">\n       <use xlink:href=\"#DejaVuSans-50\"/>\n       <use x=\"63.623047\" xlink:href=\"#DejaVuSans-48\"/>\n      </g>\n     </g>\n    </g>\n    <g id=\"ytick_13\">\n     <g id=\"line2d_21\">\n      <g>\n       <use style=\"stroke:#000000;stroke-width:0.8;\" x=\"209.543182\" xlink:href=\"#mca0c479c9e\" y=\"129.891264\"/>\n      </g>\n     </g>\n     <g id=\"text_21\">\n      <!-- 25 -->\n      <g transform=\"translate(189.818182 133.690483)scale(0.1 -0.1)\">\n       <use xlink:href=\"#DejaVuSans-50\"/>\n       <use x=\"63.623047\" xlink:href=\"#DejaVuSans-53\"/>\n      </g>\n     </g>\n    </g>\n    <g id=\"ytick_14\">\n     <g id=\"line2d_22\">\n      <g>\n       <use style=\"stroke:#000000;stroke-width:0.8;\" x=\"209.543182\" xlink:href=\"#mca0c479c9e\" y=\"153.669673\"/>\n      </g>\n     </g>\n     <g id=\"text_22\">\n      <!-- 30 -->\n      <g transform=\"translate(189.818182 157.468892)scale(0.1 -0.1)\">\n       <use xlink:href=\"#DejaVuSans-51\"/>\n       <use x=\"63.623047\" xlink:href=\"#DejaVuSans-48\"/>\n      </g>\n     </g>\n    </g>\n   </g>\n   <g id=\"patch_8\">\n    <path d=\"M 209.543182 160.803196 \nL 209.543182 8.621378 \n\" style=\"fill:none;stroke:#000000;stroke-linecap:square;stroke-linejoin:miter;stroke-width:0.8;\"/>\n   </g>\n   <g id=\"patch_9\">\n    <path d=\"M 361.725 160.803196 \nL 361.725 8.621378 \n\" style=\"fill:none;stroke:#000000;stroke-linecap:square;stroke-linejoin:miter;stroke-width:0.8;\"/>\n   </g>\n   <g id=\"patch_10\">\n    <path d=\"M 209.543182 160.803196 \nL 361.725 160.803196 \n\" style=\"fill:none;stroke:#000000;stroke-linecap:square;stroke-linejoin:miter;stroke-width:0.8;\"/>\n   </g>\n   <g id=\"patch_11\">\n    <path d=\"M 209.543182 8.621378 \nL 361.725 8.621378 \n\" style=\"fill:none;stroke:#000000;stroke-linecap:square;stroke-linejoin:miter;stroke-width:0.8;\"/>\n   </g>\n  </g>\n </g>\n <defs>\n  <clipPath id=\"pc43b190df8\">\n   <rect height=\"152.181818\" width=\"152.181818\" x=\"26.925\" y=\"8.621378\"/>\n  </clipPath>\n  <clipPath id=\"pacf009e4a5\">\n   <rect height=\"152.181818\" width=\"152.181818\" x=\"209.543182\" y=\"8.621378\"/>\n  </clipPath>\n </defs>\n</svg>\n",
      "image/png": "[encoded data removed]"
     },
     "metadata": {
      "needs_background": "light"
     }
    }
   ],
   "source": [
    "plt.subplot(121)\n",
    "plt.imshow(image)\n",
    "\n",
    "plt.subplot(122)\n",
    "plt.imshow(transform)\n",
    "\n",
    "plt.show()"
   ]
  },
  {
   "cell_type": "code",
   "execution_count": 85,
   "metadata": {},
   "outputs": [],
   "source": [
    "# train dataset 구성\n",
    "train_dataset = tf.data.Dataset.from_tensor_slices(train_path)\n",
    "train_dataset = train_dataset.map(read_dataset)\n",
    "train_dataset = train_dataset.map(image_preprocess) # transform images\n",
    "train_dataset = train_dataset.batch(batch_size)\n",
    "train_dataset = train_dataset.shuffle(buffer_size =len(train_path))\n",
    "train_dataset = train_dataset.repeat()"
   ]
  },
  {
   "cell_type": "code",
   "execution_count": 87,
   "metadata": {},
   "outputs": [],
   "source": [
    "# test dataset 구성\n",
    "test_dataset = tf.data.Dataset.from_tensor_slices(test_path)\n",
    "test_dataset = test_dataset.map(read_dataset)\n",
    "test_dataset = test_dataset.batch(batch_size)\n",
    "test_dataset = test_dataset.shuffle(buffer_size =len(test_path))\n",
    "test_dataset = test_dataset.repeat()"
   ]
  },
  {
   "cell_type": "code",
   "execution_count": null,
   "metadata": {},
   "outputs": [],
   "source": []
  },
  {
   "cell_type": "code",
   "execution_count": null,
   "metadata": {},
   "outputs": [],
   "source": []
  },
  {
   "source": [
    "## 정리"
   ],
   "cell_type": "markdown",
   "metadata": {}
  },
  {
   "cell_type": "code",
   "execution_count": null,
   "metadata": {},
   "outputs": [],
   "source": [
    "# class 값 가져오기\n",
    "def get_class_name(path):\n",
    "    fname = tf.strings.split(path,'_')[-1]\n",
    "    lbl_name = tf.strings.regex_replace(fname,'.png','')\n",
    "    return lbl_name\n",
    "\n",
    "class_names = [get_class_name(path) for path in train_path]\n",
    "classes = tf.unique(class_names).y.numpy()\n",
    "\n",
    "## onehot인코딩 함수화\n",
    "def onehot_encoding(label_name):\n",
    "    classes == get_class_name(path)\n",
    "    onehot_encdoing = tf.cast(classes == get_class_name(path), tf.uint8)\n",
    "    return onehot_encdoing"
   ]
  },
  {
   "cell_type": "code",
   "execution_count": null,
   "metadata": {},
   "outputs": [],
   "source": [
    "# 이미지와 이미지명 값 가져오기\n",
    "def read_dataset(path):\n",
    "    # read image\n",
    "    gfile = tf.io.read_file(path)\n",
    "    image = tf.io.decode_image(gfile)\n",
    "\n",
    "    image = tf.cast(image,tf.float32)/255\n",
    "\n",
    "    # read label\n",
    "    class_name = get_class_name(path)\n",
    "    label = onehot_encoding(class_name)\n",
    "    return image, label"
   ]
  },
  {
   "cell_type": "code",
   "execution_count": null,
   "metadata": {},
   "outputs": [],
   "source": [
    "# 랜덤하게 상하좌우 움직임 반응\n",
    "def image_preprocess(image, label):\n",
    "    image = tf.image.random_flip_left_right(image)\n",
    "    image = tf.image.random_flip_up_down(image)\n",
    "    return image, label"
   ]
  },
  {
   "cell_type": "code",
   "execution_count": null,
   "metadata": {},
   "outputs": [],
   "source": [
    "# train dataset 구성\n",
    "train_dataset = tf.data.Dataset.from_tensor_slices(train_path)\n",
    "train_dataset = train_dataset.map(read_dataset)\n",
    "train_dataset = train_dataset.map(image_preprocess) # transform images\n",
    "train_dataset = train_dataset.batch(batch_size)\n",
    "train_dataset = train_dataset.shuffle(buffer_size =len(train_path))\n",
    "train_dataset = train_dataset.repeat()"
   ]
  },
  {
   "cell_type": "code",
   "execution_count": null,
   "metadata": {},
   "outputs": [],
   "source": [
    "# test dataset 구성\n",
    "test_dataset = tf.data.Dataset.from_tensor_slices(test_path)\n",
    "test_dataset = test_dataset.map(read_dataset)\n",
    "test_dataset = test_dataset.batch(batch_size)\n",
    "test_dataset = test_dataset.shuffle(buffer_size =len(test_path))\n",
    "test_dataset = test_dataset.repeat()"
   ]
  },
  {
   "cell_type": "markdown",
   "metadata": {},
   "source": [
    "## Training\n",
    "- 모델 학습"
   ]
  },
  {
   "cell_type": "code",
   "execution_count": 94,
   "metadata": {},
   "outputs": [],
   "source": [
    "steps_per_epoch = len(train_path) // batch_size\n",
    "validation_steps = len(test_path) // batch_size"
   ]
  },
  {
   "cell_type": "code",
   "execution_count": 96,
   "metadata": {},
   "outputs": [],
   "source": [
    "# model.fit_generator(\n",
    "#     train_dataset,\n",
    "#     steps_per_epoch= steps_per_epoch,\n",
    "#     validation_data = test_dataset,\n",
    "#     validation_steps = validation_steps,\n",
    "#     epochs = num_epochs\n",
    "# )"
   ]
  },
  {
   "cell_type": "code",
   "execution_count": null,
   "metadata": {},
   "outputs": [],
   "source": []
  },
  {
   "cell_type": "code",
   "execution_count": null,
   "metadata": {},
   "outputs": [],
   "source": []
  }
 ],
 "metadata": {
  "kernelspec": {
   "display_name": "Python 3",
   "language": "python",
   "name": "python3"
  },
  "language_info": {
   "codemirror_mode": {
    "name": "ipython",
    "version": 3
   },
   "file_extension": ".py",
   "mimetype": "text/x-python",
   "name": "python",
   "nbconvert_exporter": "python",
   "pygments_lexer": "ipython3",
   "version": "3.8.5-final"
  }
 },
 "nbformat": 4,
 "nbformat_minor": 2
}